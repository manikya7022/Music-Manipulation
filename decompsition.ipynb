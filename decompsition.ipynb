{
 "cells": [
  {
   "cell_type": "code",
   "execution_count": 5,
   "id": "2725f7d2-4c8a-435e-bce5-46d6c2be1e24",
   "metadata": {},
   "outputs": [
    {
     "name": "stdout",
     "output_type": "stream",
     "text": [
      "Requirement already satisfied: librosa in /opt/anaconda3/lib/python3.12/site-packages (0.10.2.post1)\n",
      "Requirement already satisfied: audioread>=2.1.9 in /opt/anaconda3/lib/python3.12/site-packages (from librosa) (3.0.1)\n",
      "Requirement already satisfied: numpy!=1.22.0,!=1.22.1,!=1.22.2,>=1.20.3 in /opt/anaconda3/lib/python3.12/site-packages (from librosa) (1.26.4)\n",
      "Requirement already satisfied: scipy>=1.2.0 in /opt/anaconda3/lib/python3.12/site-packages (from librosa) (1.14.1)\n",
      "Requirement already satisfied: scikit-learn>=0.20.0 in /opt/anaconda3/lib/python3.12/site-packages (from librosa) (1.4.2)\n",
      "Requirement already satisfied: joblib>=0.14 in /opt/anaconda3/lib/python3.12/site-packages (from librosa) (1.4.2)\n",
      "Requirement already satisfied: decorator>=4.3.0 in /opt/anaconda3/lib/python3.12/site-packages (from librosa) (5.1.1)\n",
      "Requirement already satisfied: numba>=0.51.0 in /opt/anaconda3/lib/python3.12/site-packages (from librosa) (0.59.1)\n",
      "Requirement already satisfied: soundfile>=0.12.1 in /opt/anaconda3/lib/python3.12/site-packages (from librosa) (0.12.1)\n",
      "Requirement already satisfied: pooch>=1.1 in /opt/anaconda3/lib/python3.12/site-packages (from librosa) (1.8.2)\n",
      "Requirement already satisfied: soxr>=0.3.2 in /opt/anaconda3/lib/python3.12/site-packages (from librosa) (0.5.0.post1)\n",
      "Requirement already satisfied: typing-extensions>=4.1.1 in /opt/anaconda3/lib/python3.12/site-packages (from librosa) (4.11.0)\n",
      "Requirement already satisfied: lazy-loader>=0.1 in /opt/anaconda3/lib/python3.12/site-packages (from librosa) (0.4)\n",
      "Requirement already satisfied: msgpack>=1.0 in /opt/anaconda3/lib/python3.12/site-packages (from librosa) (1.0.3)\n",
      "Requirement already satisfied: packaging in /opt/anaconda3/lib/python3.12/site-packages (from lazy-loader>=0.1->librosa) (23.2)\n",
      "Requirement already satisfied: llvmlite<0.43,>=0.42.0dev0 in /opt/anaconda3/lib/python3.12/site-packages (from numba>=0.51.0->librosa) (0.42.0)\n",
      "Requirement already satisfied: platformdirs>=2.5.0 in /opt/anaconda3/lib/python3.12/site-packages (from pooch>=1.1->librosa) (3.10.0)\n",
      "Requirement already satisfied: requests>=2.19.0 in /opt/anaconda3/lib/python3.12/site-packages (from pooch>=1.1->librosa) (2.32.2)\n",
      "Requirement already satisfied: threadpoolctl>=2.0.0 in /opt/anaconda3/lib/python3.12/site-packages (from scikit-learn>=0.20.0->librosa) (2.2.0)\n",
      "Requirement already satisfied: cffi>=1.0 in /opt/anaconda3/lib/python3.12/site-packages (from soundfile>=0.12.1->librosa) (1.16.0)\n",
      "Requirement already satisfied: pycparser in /opt/anaconda3/lib/python3.12/site-packages (from cffi>=1.0->soundfile>=0.12.1->librosa) (2.21)\n",
      "Requirement already satisfied: charset-normalizer<4,>=2 in /opt/anaconda3/lib/python3.12/site-packages (from requests>=2.19.0->pooch>=1.1->librosa) (2.0.4)\n",
      "Requirement already satisfied: idna<4,>=2.5 in /opt/anaconda3/lib/python3.12/site-packages (from requests>=2.19.0->pooch>=1.1->librosa) (3.7)\n",
      "Requirement already satisfied: urllib3<3,>=1.21.1 in /opt/anaconda3/lib/python3.12/site-packages (from requests>=2.19.0->pooch>=1.1->librosa) (2.2.2)\n",
      "Requirement already satisfied: certifi>=2017.4.17 in /opt/anaconda3/lib/python3.12/site-packages (from requests>=2.19.0->pooch>=1.1->librosa) (2024.8.30)\n",
      "Requirement already satisfied: midiutil in /opt/anaconda3/lib/python3.12/site-packages (1.2.1)\n",
      "Collecting pandas\n",
      "  Using cached pandas-2.2.3-cp312-cp312-macosx_11_0_arm64.whl.metadata (89 kB)\n",
      "Requirement already satisfied: numpy>=1.26.0 in /opt/anaconda3/lib/python3.12/site-packages (from pandas) (1.26.4)\n",
      "Requirement already satisfied: python-dateutil>=2.8.2 in /opt/anaconda3/lib/python3.12/site-packages (from pandas) (2.9.0.post0)\n",
      "Requirement already satisfied: pytz>=2020.1 in /opt/anaconda3/lib/python3.12/site-packages (from pandas) (2024.1)\n",
      "Requirement already satisfied: tzdata>=2022.7 in /opt/anaconda3/lib/python3.12/site-packages (from pandas) (2023.3)\n",
      "Requirement already satisfied: six>=1.5 in /opt/anaconda3/lib/python3.12/site-packages (from python-dateutil>=2.8.2->pandas) (1.16.0)\n",
      "Using cached pandas-2.2.3-cp312-cp312-macosx_11_0_arm64.whl (11.4 MB)\n",
      "Installing collected packages: pandas\n",
      "\u001b[31mERROR: pip's dependency resolver does not currently take into account all the packages that are installed. This behaviour is the source of the following dependency conflicts.\n",
      "seaborn 0.13.2 requires matplotlib!=3.6.1,>=3.4, which is not installed.\n",
      "mlxtend 0.16.0 requires matplotlib>=1.5.1, which is not installed.\u001b[0m\u001b[31m\n",
      "\u001b[0mSuccessfully installed pandas-2.2.3\n"
     ]
    }
   ],
   "source": [
    "!pip install librosa\n",
    "!pip install midiutil\n",
    "!pip install pandas"
   ]
  },
  {
   "cell_type": "code",
   "execution_count": 7,
   "id": "f8903ef1-67e6-4fb1-a4bd-7d7d736fb3b6",
   "metadata": {},
   "outputs": [],
   "source": [
    "import librosa\n",
    "import numpy as np\n",
    "import pandas as pd\n",
    "import math\n",
    "import soundfile as sf\n",
    "import IPython.display as ipd"
   ]
  },
  {
   "cell_type": "code",
   "execution_count": 9,
   "id": "8a69627c-bd3a-4ff1-a82e-f99b3bf123aa",
   "metadata": {},
   "outputs": [],
   "source": [
    "FoxTitle, sr_FoxTitle = librosa.load(\"music_decomposition/FoxTitle.wav\", sr = 16000)\n",
    "spectrogram_FoxTitle = librosa.stft(FoxTitle, n_fft=1024, hop_length=160, center=False, win_length=1024) \n",
    "M_FoxTitle = abs(spectrogram_FoxTitle)\n",
    "phase_FoxTitle = spectrogram_FoxTitle/(M_FoxTitle + 2.2204e-16) "
   ]
  },
  {
   "cell_type": "code",
   "execution_count": 11,
   "id": "259d30a1-7546-4c1b-868a-dd928276151d",
   "metadata": {},
   "outputs": [],
   "source": [
    "U, S, V = np.linalg.svd(M_FoxTitle, full_matrices=False)"
   ]
  },
  {
   "cell_type": "code",
   "execution_count": 13,
   "id": "5b9aa043-4240-44a4-8c40-b1ab892749c9",
   "metadata": {},
   "outputs": [],
   "source": [
    "top_11_df = pd.DataFrame(U[:, :11])\n",
    "top_11_df.to_csv(\"musicbases.csv\", index=False)"
   ]
  },
  {
   "cell_type": "code",
   "execution_count": 15,
   "id": "348640c7-158b-4a76-a5ae-f59c32e67f05",
   "metadata": {},
   "outputs": [],
   "source": [
    "n_fft = 1024\n",
    "hop_length = 160\n",
    "steady_start = 21\n",
    "steady_end = 40"
   ]
  },
  {
   "cell_type": "code",
   "execution_count": 17,
   "id": "77a8418d-c490-41e9-a925-797b97c61e91",
   "metadata": {},
   "outputs": [],
   "source": [
    "def compute_average_spectrum(file_path):\n",
    "    y, sr = librosa.load(file_path, sr=None)\n",
    "    stft_result = librosa.stft(y, n_fft=n_fft, hop_length=hop_length)\n",
    "    magnitude = np.abs(stft_result)\n",
    "    steady_magnitude = magnitude[:, steady_start:steady_end]\n",
    "    return np.mean(steady_magnitude, axis=1)"
   ]
  },
  {
   "cell_type": "code",
   "execution_count": 19,
   "id": "c0f08686-efff-4d0f-88b2-56d78cd33c55",
   "metadata": {},
   "outputs": [],
   "source": [
    "note_files = [\n",
    "    (\"A3\", \"music_decomposition/A3.wav\"),\n",
    "    (\"B3\", \"music_decomposition/B3.wav\"),\n",
    "    (\"C4\", \"music_decomposition/C4.wav\"),\n",
    "    (\"D3\", \"music_decomposition/D3.wav\"),\n",
    "    (\"D4\", \"music_decomposition/D4.wav\"),\n",
    "    (\"E3\", \"music_decomposition/E3.wav\"),\n",
    "    (\"E4\", \"music_decomposition/E4.wav\"),\n",
    "    (\"EF4\", \"music_decomposition/EF4.wav\"),\n",
    "    (\"FS3\", \"music_decomposition/FS3.wav\"),\n",
    "    (\"G3\", \"music_decomposition/G3.wav\"),\n",
    "    (\"G4\", \"music_decomposition/G4.wav\")\n",
    "]"
   ]
  },
  {
   "cell_type": "code",
   "execution_count": 21,
   "id": "d98d8c02-1c49-4759-9d40-f4b837be8c48",
   "metadata": {},
   "outputs": [],
   "source": [
    "ground_truth_spectra = {\n",
    "    name: compute_average_spectrum(file_path) for name, file_path in note_files\n",
    "}"
   ]
  },
  {
   "cell_type": "code",
   "execution_count": 23,
   "id": "3d7463b6-c03c-42c6-8888-1a547e28d26b",
   "metadata": {},
   "outputs": [
    {
     "data": {
      "text/html": [
       "<div>\n",
       "<style scoped>\n",
       "    .dataframe tbody tr th:only-of-type {\n",
       "        vertical-align: middle;\n",
       "    }\n",
       "\n",
       "    .dataframe tbody tr th {\n",
       "        vertical-align: top;\n",
       "    }\n",
       "\n",
       "    .dataframe thead th {\n",
       "        text-align: right;\n",
       "    }\n",
       "</style>\n",
       "<table border=\"1\" class=\"dataframe\">\n",
       "  <thead>\n",
       "    <tr style=\"text-align: right;\">\n",
       "      <th></th>\n",
       "      <th>Base_Index</th>\n",
       "      <th>Note_Name</th>\n",
       "      <th>Inner_Product</th>\n",
       "    </tr>\n",
       "  </thead>\n",
       "  <tbody>\n",
       "    <tr>\n",
       "      <th>0</th>\n",
       "      <td>1</td>\n",
       "      <td>E4</td>\n",
       "      <td>-1.229586</td>\n",
       "    </tr>\n",
       "    <tr>\n",
       "      <th>1</th>\n",
       "      <td>2</td>\n",
       "      <td>G4</td>\n",
       "      <td>12.184568</td>\n",
       "    </tr>\n",
       "    <tr>\n",
       "      <th>2</th>\n",
       "      <td>3</td>\n",
       "      <td>G3</td>\n",
       "      <td>8.500744</td>\n",
       "    </tr>\n",
       "    <tr>\n",
       "      <th>3</th>\n",
       "      <td>4</td>\n",
       "      <td>FS3</td>\n",
       "      <td>10.305145</td>\n",
       "    </tr>\n",
       "    <tr>\n",
       "      <th>4</th>\n",
       "      <td>5</td>\n",
       "      <td>D3</td>\n",
       "      <td>10.522840</td>\n",
       "    </tr>\n",
       "    <tr>\n",
       "      <th>5</th>\n",
       "      <td>6</td>\n",
       "      <td>G4</td>\n",
       "      <td>12.573385</td>\n",
       "    </tr>\n",
       "    <tr>\n",
       "      <th>6</th>\n",
       "      <td>7</td>\n",
       "      <td>EF4</td>\n",
       "      <td>15.583119</td>\n",
       "    </tr>\n",
       "    <tr>\n",
       "      <th>7</th>\n",
       "      <td>8</td>\n",
       "      <td>EF4</td>\n",
       "      <td>18.958525</td>\n",
       "    </tr>\n",
       "    <tr>\n",
       "      <th>8</th>\n",
       "      <td>9</td>\n",
       "      <td>FS3</td>\n",
       "      <td>14.698790</td>\n",
       "    </tr>\n",
       "    <tr>\n",
       "      <th>9</th>\n",
       "      <td>10</td>\n",
       "      <td>A3</td>\n",
       "      <td>13.013588</td>\n",
       "    </tr>\n",
       "    <tr>\n",
       "      <th>10</th>\n",
       "      <td>11</td>\n",
       "      <td>B3</td>\n",
       "      <td>2.796941</td>\n",
       "    </tr>\n",
       "  </tbody>\n",
       "</table>\n",
       "</div>"
      ],
      "text/plain": [
       "    Base_Index Note_Name  Inner_Product\n",
       "0            1        E4      -1.229586\n",
       "1            2        G4      12.184568\n",
       "2            3        G3       8.500744\n",
       "3            4       FS3      10.305145\n",
       "4            5        D3      10.522840\n",
       "5            6        G4      12.573385\n",
       "6            7       EF4      15.583119\n",
       "7            8       EF4      18.958525\n",
       "8            9       FS3      14.698790\n",
       "9           10        A3      13.013588\n",
       "10          11        B3       2.796941"
      ]
     },
     "execution_count": 23,
     "metadata": {},
     "output_type": "execute_result"
    }
   ],
   "source": [
    "results = []\n",
    "for i, base in enumerate(U[:, :11].T):\n",
    "    best_match = None\n",
    "    best_inner_product = -np.inf\n",
    "    for note_name, spectrum in ground_truth_spectra.items():\n",
    "        inner_product = np.dot(base, spectrum)\n",
    "        if inner_product > best_inner_product:\n",
    "            best_match = note_name\n",
    "            best_inner_product = inner_product\n",
    "    results.append((i + 1, best_match, best_inner_product))\n",
    "\n",
    "results_df = pd.DataFrame(results, columns=[\"Base_Index\", \"Note_Name\", \"Inner_Product\"])\n",
    "results_df.to_csv(\"matching_results.csv\", index=False)\n",
    "\n",
    "results_df"
   ]
  },
  {
   "cell_type": "code",
   "execution_count": null,
   "id": "f7515012-5ccb-471e-a2a6-6a16ed9e8970",
   "metadata": {},
   "outputs": [],
   "source": []
  }
 ],
 "metadata": {
  "kernelspec": {
   "display_name": "Python 3 (ipykernel)",
   "language": "python",
   "name": "python3"
  },
  "language_info": {
   "codemirror_mode": {
    "name": "ipython",
    "version": 3
   },
   "file_extension": ".py",
   "mimetype": "text/x-python",
   "name": "python",
   "nbconvert_exporter": "python",
   "pygments_lexer": "ipython3",
   "version": "3.12.4"
  }
 },
 "nbformat": 4,
 "nbformat_minor": 5
}
