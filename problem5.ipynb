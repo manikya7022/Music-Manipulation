{
 "cells": [
  {
   "cell_type": "code",
   "execution_count": 1,
   "id": "b2e8a019-6288-4567-ac06-43efceebb222",
   "metadata": {},
   "outputs": [
    {
     "name": "stdout",
     "output_type": "stream",
     "text": [
      "Requirement already satisfied: librosa in /opt/anaconda3/lib/python3.12/site-packages (0.10.2.post1)\n",
      "Requirement already satisfied: audioread>=2.1.9 in /opt/anaconda3/lib/python3.12/site-packages (from librosa) (3.0.1)\n",
      "Requirement already satisfied: numpy!=1.22.0,!=1.22.1,!=1.22.2,>=1.20.3 in /opt/anaconda3/lib/python3.12/site-packages (from librosa) (1.26.4)\n",
      "Requirement already satisfied: scipy>=1.2.0 in /opt/anaconda3/lib/python3.12/site-packages (from librosa) (1.14.1)\n",
      "Requirement already satisfied: scikit-learn>=0.20.0 in /opt/anaconda3/lib/python3.12/site-packages (from librosa) (1.4.2)\n",
      "Requirement already satisfied: joblib>=0.14 in /opt/anaconda3/lib/python3.12/site-packages (from librosa) (1.4.2)\n",
      "Requirement already satisfied: decorator>=4.3.0 in /opt/anaconda3/lib/python3.12/site-packages (from librosa) (5.1.1)\n",
      "Requirement already satisfied: numba>=0.51.0 in /opt/anaconda3/lib/python3.12/site-packages (from librosa) (0.59.1)\n",
      "Requirement already satisfied: soundfile>=0.12.1 in /opt/anaconda3/lib/python3.12/site-packages (from librosa) (0.12.1)\n",
      "Requirement already satisfied: pooch>=1.1 in /opt/anaconda3/lib/python3.12/site-packages (from librosa) (1.8.2)\n",
      "Requirement already satisfied: soxr>=0.3.2 in /opt/anaconda3/lib/python3.12/site-packages (from librosa) (0.5.0.post1)\n",
      "Requirement already satisfied: typing-extensions>=4.1.1 in /opt/anaconda3/lib/python3.12/site-packages (from librosa) (4.11.0)\n",
      "Requirement already satisfied: lazy-loader>=0.1 in /opt/anaconda3/lib/python3.12/site-packages (from librosa) (0.4)\n",
      "Requirement already satisfied: msgpack>=1.0 in /opt/anaconda3/lib/python3.12/site-packages (from librosa) (1.0.3)\n",
      "Requirement already satisfied: packaging in /opt/anaconda3/lib/python3.12/site-packages (from lazy-loader>=0.1->librosa) (23.2)\n",
      "Requirement already satisfied: llvmlite<0.43,>=0.42.0dev0 in /opt/anaconda3/lib/python3.12/site-packages (from numba>=0.51.0->librosa) (0.42.0)\n",
      "Requirement already satisfied: platformdirs>=2.5.0 in /opt/anaconda3/lib/python3.12/site-packages (from pooch>=1.1->librosa) (3.10.0)\n",
      "Requirement already satisfied: requests>=2.19.0 in /opt/anaconda3/lib/python3.12/site-packages (from pooch>=1.1->librosa) (2.32.2)\n",
      "Requirement already satisfied: threadpoolctl>=2.0.0 in /opt/anaconda3/lib/python3.12/site-packages (from scikit-learn>=0.20.0->librosa) (2.2.0)\n",
      "Requirement already satisfied: cffi>=1.0 in /opt/anaconda3/lib/python3.12/site-packages (from soundfile>=0.12.1->librosa) (1.16.0)\n",
      "Requirement already satisfied: pycparser in /opt/anaconda3/lib/python3.12/site-packages (from cffi>=1.0->soundfile>=0.12.1->librosa) (2.21)\n",
      "Requirement already satisfied: charset-normalizer<4,>=2 in /opt/anaconda3/lib/python3.12/site-packages (from requests>=2.19.0->pooch>=1.1->librosa) (2.0.4)\n",
      "Requirement already satisfied: idna<4,>=2.5 in /opt/anaconda3/lib/python3.12/site-packages (from requests>=2.19.0->pooch>=1.1->librosa) (3.7)\n",
      "Requirement already satisfied: urllib3<3,>=1.21.1 in /opt/anaconda3/lib/python3.12/site-packages (from requests>=2.19.0->pooch>=1.1->librosa) (2.2.2)\n",
      "Requirement already satisfied: certifi>=2017.4.17 in /opt/anaconda3/lib/python3.12/site-packages (from requests>=2.19.0->pooch>=1.1->librosa) (2024.8.30)\n",
      "Requirement already satisfied: midiutil in /opt/anaconda3/lib/python3.12/site-packages (1.2.1)\n"
     ]
    }
   ],
   "source": [
    "!pip install librosa\n",
    "!pip install midiutil"
   ]
  },
  {
   "cell_type": "code",
   "execution_count": 3,
   "id": "aa9082fb-e821-4f15-bfdd-dadf764c34ae",
   "metadata": {},
   "outputs": [
    {
     "ename": "ModuleNotFoundError",
     "evalue": "No module named 'pandas'",
     "output_type": "error",
     "traceback": [
      "\u001b[0;31m---------------------------------------------------------------------------\u001b[0m",
      "\u001b[0;31mModuleNotFoundError\u001b[0m                       Traceback (most recent call last)",
      "Cell \u001b[0;32mIn[3], line 3\u001b[0m\n\u001b[1;32m      1\u001b[0m \u001b[38;5;28;01mimport\u001b[39;00m \u001b[38;5;21;01mlibrosa\u001b[39;00m\n\u001b[1;32m      2\u001b[0m \u001b[38;5;28;01mimport\u001b[39;00m \u001b[38;5;21;01mnumpy\u001b[39;00m \u001b[38;5;28;01mas\u001b[39;00m \u001b[38;5;21;01mnp\u001b[39;00m\n\u001b[0;32m----> 3\u001b[0m \u001b[38;5;28;01mimport\u001b[39;00m \u001b[38;5;21;01mpandas\u001b[39;00m \u001b[38;5;28;01mas\u001b[39;00m \u001b[38;5;21;01mpd\u001b[39;00m\n\u001b[1;32m      4\u001b[0m \u001b[38;5;28;01mimport\u001b[39;00m \u001b[38;5;21;01mmath\u001b[39;00m\n\u001b[1;32m      5\u001b[0m \u001b[38;5;28;01mimport\u001b[39;00m \u001b[38;5;21;01msoundfile\u001b[39;00m \u001b[38;5;28;01mas\u001b[39;00m \u001b[38;5;21;01msf\u001b[39;00m\n",
      "\u001b[0;31mModuleNotFoundError\u001b[0m: No module named 'pandas'"
     ]
    }
   ],
   "source": [
    "import librosa\n",
    "import numpy as np\n",
    "import pandas as pd\n",
    "import math\n",
    "import soundfile as sf\n",
    "import IPython.display as ipd"
   ]
  },
  {
   "cell_type": "code",
   "execution_count": 1,
   "id": "9bbb81d1-152e-4f8b-8c05-92c490f86a7a",
   "metadata": {},
   "outputs": [
    {
     "ename": "NameError",
     "evalue": "name 'librosa' is not defined",
     "output_type": "error",
     "traceback": [
      "\u001b[0;31m---------------------------------------------------------------------------\u001b[0m",
      "\u001b[0;31mNameError\u001b[0m                                 Traceback (most recent call last)",
      "Cell \u001b[0;32mIn[1], line 1\u001b[0m\n\u001b[0;32m----> 1\u001b[0m FoxTitle, sr_FoxTitle \u001b[38;5;241m=\u001b[39m \u001b[43mlibrosa\u001b[49m\u001b[38;5;241m.\u001b[39mload(\u001b[38;5;124m\"\u001b[39m\u001b[38;5;124mmusic_decomposition/FoxTitle.wav\u001b[39m\u001b[38;5;124m\"\u001b[39m, sr \u001b[38;5;241m=\u001b[39m \u001b[38;5;241m16000\u001b[39m)\n\u001b[1;32m      2\u001b[0m spectrogram_FoxTitle \u001b[38;5;241m=\u001b[39m librosa\u001b[38;5;241m.\u001b[39mstft(FoxTitle, n_fft\u001b[38;5;241m=\u001b[39m\u001b[38;5;241m1024\u001b[39m, hop_length\u001b[38;5;241m=\u001b[39m\u001b[38;5;241m160\u001b[39m, center\u001b[38;5;241m=\u001b[39m\u001b[38;5;28;01mFalse\u001b[39;00m, win_length\u001b[38;5;241m=\u001b[39m\u001b[38;5;241m1024\u001b[39m) \n\u001b[1;32m      3\u001b[0m M_FoxTitle \u001b[38;5;241m=\u001b[39m \u001b[38;5;28mabs\u001b[39m(spectrogram_FoxTitle)\n",
      "\u001b[0;31mNameError\u001b[0m: name 'librosa' is not defined"
     ]
    }
   ],
   "source": [
    "FoxTitle, sr_FoxTitle = librosa.load(\"music_decomposition/FoxTitle.wav\", sr = 16000)\n",
    "spectrogram_FoxTitle = librosa.stft(FoxTitle, n_fft=1024, hop_length=160, center=False, win_length=1024) \n",
    "M_FoxTitle = abs(spectrogram_FoxTitle)\n",
    "phase_FoxTitle = spectrogram_FoxTitle/(M_FoxTitle + 2.2204e-16) "
   ]
  },
  {
   "cell_type": "code",
   "execution_count": 9,
   "id": "8689634c-e303-4139-abac-5d11cafac7b8",
   "metadata": {},
   "outputs": [],
   "source": [
    "U, S, V = np.linalg.svd(M_FoxTitle, full_matrices=False)"
   ]
  },
  {
   "cell_type": "code",
   "execution_count": 13,
   "id": "3192a518-9469-4ae2-84b7-3fee079cf027",
   "metadata": {},
   "outputs": [],
   "source": [
    "top_11_df = pd.DataFrame(U[:, :11])\n",
    "top_11_df.to_csv(\"musicbases.csv\", index=False)"
   ]
  },
  {
   "cell_type": "code",
   "execution_count": 15,
   "id": "da69bcef-e6ce-49c9-bfe3-0e78ca905f4b",
   "metadata": {},
   "outputs": [],
   "source": [
    "n_fft = 1024\n",
    "hop_length = 160\n",
    "steady_start = 21\n",
    "steady_end = 40"
   ]
  },
  {
   "cell_type": "code",
   "execution_count": 17,
   "id": "528aa465-2c09-4c94-9aa6-271ec4bdbb81",
   "metadata": {},
   "outputs": [],
   "source": [
    "def compute_average_spectrum(file_path):\n",
    "    y, sr = librosa.load(file_path, sr=None)\n",
    "    stft_result = librosa.stft(y, n_fft=n_fft, hop_length=hop_length)\n",
    "    magnitude = np.abs(stft_result)\n",
    "    steady_magnitude = magnitude[:, steady_start:steady_end]\n",
    "    return np.mean(steady_magnitude, axis=1)"
   ]
  },
  {
   "cell_type": "code",
   "execution_count": 19,
   "id": "ffa6b8c1-1676-4cf7-9435-4b81519fe0b6",
   "metadata": {},
   "outputs": [],
   "source": [
    "note_files = [\n",
    "    (\"A3\", \"music_decomposition/A3.wav\"),\n",
    "    (\"B3\", \"music_decomposition/B3.wav\"),\n",
    "    (\"C4\", \"music_decomposition/C4.wav\"),\n",
    "    (\"D3\", \"music_decomposition/D3.wav\"),\n",
    "    (\"D4\", \"music_decomposition/D4.wav\"),\n",
    "    (\"E3\", \"music_decomposition/E3.wav\"),\n",
    "    (\"E4\", \"music_decomposition/E4.wav\"),\n",
    "    (\"EF4\", \"music_decomposition/EF4.wav\"),\n",
    "    (\"FS3\", \"music_decomposition/FS3.wav\"),\n",
    "    (\"G3\", \"music_decomposition/G3.wav\"),\n",
    "    (\"G4\", \"music_decomposition/G4.wav\")\n",
    "]"
   ]
  },
  {
   "cell_type": "code",
   "execution_count": 21,
   "id": "565e7656-04d6-4844-9178-c2c4617797d2",
   "metadata": {},
   "outputs": [],
   "source": [
    "ground_truth_spectra = {\n",
    "    name: compute_average_spectrum(file_path) for name, file_path in note_files\n",
    "}"
   ]
  },
  {
   "cell_type": "code",
   "execution_count": 23,
   "id": "ea110125-9279-4d45-9911-a11115a0a3c4",
   "metadata": {},
   "outputs": [
    {
     "data": {
      "text/html": [
       "<div>\n",
       "<style scoped>\n",
       "    .dataframe tbody tr th:only-of-type {\n",
       "        vertical-align: middle;\n",
       "    }\n",
       "\n",
       "    .dataframe tbody tr th {\n",
       "        vertical-align: top;\n",
       "    }\n",
       "\n",
       "    .dataframe thead th {\n",
       "        text-align: right;\n",
       "    }\n",
       "</style>\n",
       "<table border=\"1\" class=\"dataframe\">\n",
       "  <thead>\n",
       "    <tr style=\"text-align: right;\">\n",
       "      <th></th>\n",
       "      <th>Base_Index</th>\n",
       "      <th>Note_Name</th>\n",
       "      <th>Inner_Product</th>\n",
       "    </tr>\n",
       "  </thead>\n",
       "  <tbody>\n",
       "    <tr>\n",
       "      <th>0</th>\n",
       "      <td>1</td>\n",
       "      <td>E4</td>\n",
       "      <td>-1.229586</td>\n",
       "    </tr>\n",
       "    <tr>\n",
       "      <th>1</th>\n",
       "      <td>2</td>\n",
       "      <td>G4</td>\n",
       "      <td>12.184568</td>\n",
       "    </tr>\n",
       "    <tr>\n",
       "      <th>2</th>\n",
       "      <td>3</td>\n",
       "      <td>G3</td>\n",
       "      <td>8.500744</td>\n",
       "    </tr>\n",
       "    <tr>\n",
       "      <th>3</th>\n",
       "      <td>4</td>\n",
       "      <td>FS3</td>\n",
       "      <td>10.305145</td>\n",
       "    </tr>\n",
       "    <tr>\n",
       "      <th>4</th>\n",
       "      <td>5</td>\n",
       "      <td>D3</td>\n",
       "      <td>10.522840</td>\n",
       "    </tr>\n",
       "    <tr>\n",
       "      <th>5</th>\n",
       "      <td>6</td>\n",
       "      <td>G4</td>\n",
       "      <td>12.573385</td>\n",
       "    </tr>\n",
       "    <tr>\n",
       "      <th>6</th>\n",
       "      <td>7</td>\n",
       "      <td>EF4</td>\n",
       "      <td>15.583119</td>\n",
       "    </tr>\n",
       "    <tr>\n",
       "      <th>7</th>\n",
       "      <td>8</td>\n",
       "      <td>EF4</td>\n",
       "      <td>18.958525</td>\n",
       "    </tr>\n",
       "    <tr>\n",
       "      <th>8</th>\n",
       "      <td>9</td>\n",
       "      <td>FS3</td>\n",
       "      <td>14.698790</td>\n",
       "    </tr>\n",
       "    <tr>\n",
       "      <th>9</th>\n",
       "      <td>10</td>\n",
       "      <td>A3</td>\n",
       "      <td>13.013588</td>\n",
       "    </tr>\n",
       "    <tr>\n",
       "      <th>10</th>\n",
       "      <td>11</td>\n",
       "      <td>B3</td>\n",
       "      <td>2.796941</td>\n",
       "    </tr>\n",
       "  </tbody>\n",
       "</table>\n",
       "</div>"
      ],
      "text/plain": [
       "    Base_Index Note_Name  Inner_Product\n",
       "0            1        E4      -1.229586\n",
       "1            2        G4      12.184568\n",
       "2            3        G3       8.500744\n",
       "3            4       FS3      10.305145\n",
       "4            5        D3      10.522840\n",
       "5            6        G4      12.573385\n",
       "6            7       EF4      15.583119\n",
       "7            8       EF4      18.958525\n",
       "8            9       FS3      14.698790\n",
       "9           10        A3      13.013588\n",
       "10          11        B3       2.796941"
      ]
     },
     "execution_count": 23,
     "metadata": {},
     "output_type": "execute_result"
    }
   ],
   "source": [
    "results = []\n",
    "for i, base in enumerate(U[:, :11].T):\n",
    "    best_match = None\n",
    "    best_inner_product = -np.inf\n",
    "    for note_name, spectrum in ground_truth_spectra.items():\n",
    "        inner_product = np.dot(base, spectrum)\n",
    "        if inner_product > best_inner_product:\n",
    "            best_match = note_name\n",
    "            best_inner_product = inner_product\n",
    "    results.append((i + 1, best_match, best_inner_product))\n",
    "\n",
    "results_df = pd.DataFrame(results, columns=[\"Base_Index\", \"Note_Name\", \"Inner_Product\"])\n",
    "results_df.to_csv(\"matching_results.csv\", index=False)\n",
    "\n",
    "results_df"
   ]
  },
  {
   "cell_type": "code",
   "execution_count": 5,
   "id": "50ddb150-2bfd-4ba0-9909-01b0b1a1ae3d",
   "metadata": {},
   "outputs": [
    {
     "ename": "ModuleNotFoundError",
     "evalue": "No module named 'numpy'",
     "output_type": "error",
     "traceback": [
      "\u001b[0;31m---------------------------------------------------------------------------\u001b[0m",
      "\u001b[0;31mModuleNotFoundError\u001b[0m                       Traceback (most recent call last)",
      "Cell \u001b[0;32mIn[5], line 2\u001b[0m\n\u001b[1;32m      1\u001b[0m \u001b[38;5;66;03m# Load the relevant packages.\u001b[39;00m\n\u001b[0;32m----> 2\u001b[0m \u001b[38;5;28;01mimport\u001b[39;00m \u001b[38;5;21;01mnumpy\u001b[39;00m \u001b[38;5;28;01mas\u001b[39;00m \u001b[38;5;21;01mnp\u001b[39;00m\n\u001b[1;32m      3\u001b[0m \u001b[38;5;28;01mimport\u001b[39;00m \u001b[38;5;21;01mpandas\u001b[39;00m \u001b[38;5;28;01mas\u001b[39;00m \u001b[38;5;21;01mpd\u001b[39;00m\n\u001b[1;32m      4\u001b[0m \u001b[38;5;28;01mfrom\u001b[39;00m \u001b[38;5;21;01mscipy\u001b[39;00m \u001b[38;5;28;01mimport\u001b[39;00m stats\n",
      "\u001b[0;31mModuleNotFoundError\u001b[0m: No module named 'numpy'"
     ]
    }
   ],
   "source": [
    "# Load the relevant packages.\n",
    "import numpy as np\n",
    "import pandas as pd\n",
    "from scipy import stats\n",
    "import matplotlib.pylab as plt\n",
    "import seaborn as sns\n",
    "\n",
    "# Load the dataset and wrapper functions\n",
    "from responsibly.dataset import COMPASDataset\n",
    "from responsibly.fairness.metrics import distplot_by\n",
    "from responsibly.fairness.metrics import (independence_binary,\n",
    "                                        separation_binary,\n",
    "                                        sufficiency_binary,\n",
    "                                        independence_score,\n",
    "                                        separation_score,\n",
    "                                        sufficiency_score,\n",
    "                                        report_binary,\n",
    "                                        plot_roc_by_attr)"
   ]
  },
  {
   "cell_type": "code",
   "execution_count": 7,
   "id": "57c3ac4e-98d5-4f5d-9cb0-e52c581b746b",
   "metadata": {},
   "outputs": [
    {
     "name": "stdout",
     "output_type": "stream",
     "text": [
      "Optimal Profit: $55\n",
      "\n",
      "Items to include in the knapsack:\n",
      "Item  Profit    Weight    \n",
      "--------------------------\n",
      "1     $20        2         \n",
      "3     $35        7         \n",
      "\n",
      "Total Weight: 9\n",
      "Total Profit: $55\n"
     ]
    }
   ],
   "source": [
    "profits = [20, 30, 35, 12, 3]\n",
    "weights = [2, 5, 7, 3, 1]\n",
    "capacity = 9\n",
    "\n",
    "max_profit = 0\n",
    "best_set = []\n",
    "current_set = [0] * len(profits)\n",
    "\n",
    "def knapsack(i, current_profit, current_weight):\n",
    "    global max_profit, best_set\n",
    "    if i >= len(profits):\n",
    "        if current_profit > max_profit:\n",
    "            max_profit = current_profit\n",
    "            best_set = current_set[:]\n",
    "        return\n",
    "    if current_weight + weights[i] <= capacity:\n",
    "        current_set[i] = 1\n",
    "        knapsack(i + 1, current_profit + profits[i], current_weight + weights[i])\n",
    "    current_set[i] = 0\n",
    "    knapsack(i + 1, current_profit, current_weight)\n",
    "\n",
    "knapsack(0, 0, 0)\n",
    "\n",
    "print(f\"Optimal Profit: ${max_profit}\")\n",
    "print(\"\\nItems to include in the knapsack:\")\n",
    "print(f\"{'Item':<6}{'Profit':<10}{'Weight':<10}\")\n",
    "print(\"-\" * 26)\n",
    "\n",
    "for i, included in enumerate(best_set):\n",
    "    if included:\n",
    "        print(f\"{i + 1:<6}${profits[i]:<10}{weights[i]:<10}\")\n",
    "\n",
    "print(f\"\\nTotal Weight: {sum(weights[i] for i, included in enumerate(best_set) if included)}\")\n",
    "print(f\"Total Profit: ${max_profit}\")\n"
   ]
  },
  {
   "cell_type": "code",
   "execution_count": null,
   "id": "8c8fdfcb-19cc-4433-a08e-0979d96c5989",
   "metadata": {},
   "outputs": [],
   "source": []
  }
 ],
 "metadata": {
  "kernelspec": {
   "display_name": "Python 3 (ipykernel)",
   "language": "python",
   "name": "python3"
  },
  "language_info": {
   "codemirror_mode": {
    "name": "ipython",
    "version": 3
   },
   "file_extension": ".py",
   "mimetype": "text/x-python",
   "name": "python",
   "nbconvert_exporter": "python",
   "pygments_lexer": "ipython3",
   "version": "3.12.4"
  }
 },
 "nbformat": 4,
 "nbformat_minor": 5
}
